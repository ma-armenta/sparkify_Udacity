{
 "cells": [
  {
   "cell_type": "markdown",
   "metadata": {},
   "source": [
    "# Sparkify Project Workspace\n",
    "This workspace contains a tiny subset (128MB) of the full dataset available (12GB). Feel free to use this workspace to build your project, or to explore a smaller subset with Spark before deploying your cluster on the cloud. Instructions for setting up your Spark cluster is included in the last lesson of the Extracurricular Spark Course content.\n",
    "\n",
    "You can follow the steps below to guide your data analysis and model building portion of this project."
   ]
  },
  {
   "cell_type": "code",
   "execution_count": 2,
   "metadata": {},
   "outputs": [],
   "source": [
    "# import libraries\n",
    "from pyspark.sql import SparkSession\n",
    "from pyspark.sql.functions import udf\n",
    "import datetime\n",
    "from pyspark.sql.types import IntegerType\n",
    "from pyspark.sql import Window\n",
    "from pyspark.sql.functions import desc\n",
    "from pyspark.sql.functions import sum as Fsum\n",
    "import pyspark.sql.functions as sf\n",
    "import pandas as pd\n",
    "from pyspark.ml.feature import VectorAssembler, Normalizer, StandardScaler, PCA\n",
    "from pyspark.ml.classification import LogisticRegression\n",
    "from pyspark.ml.evaluation import MulticlassClassificationEvaluator\n",
    "from pyspark.ml.tuning import CrossValidator, ParamGridBuilder\n",
    "\n",
    "# from databricks import koalas as ks\n",
    "# ! conda install koalas\n",
    "%matplotlib inline\n",
    "import matplotlib.pyplot as plt"
   ]
  },
  {
   "cell_type": "code",
   "execution_count": 3,
   "metadata": {},
   "outputs": [
    {
     "data": {
      "text/plain": [
       "[('spark.app.name', 'SparkifyCapstone'),\n",
       " ('spark.rdd.compress', 'True'),\n",
       " ('spark.app.id', 'local-1590780480379'),\n",
       " ('spark.serializer.objectStreamReset', '100'),\n",
       " ('spark.master', 'local[*]'),\n",
       " ('spark.executor.id', 'driver'),\n",
       " ('spark.submit.deployMode', 'client'),\n",
       " ('spark.driver.host', '36685b1360d4'),\n",
       " ('spark.driver.port', '38625'),\n",
       " ('spark.ui.showConsoleProgress', 'true')]"
      ]
     },
     "execution_count": 3,
     "metadata": {},
     "output_type": "execute_result"
    }
   ],
   "source": [
    "# create a Spark session\n",
    "spark = SparkSession.builder.appName(\"SparkifyCapstone\").getOrCreate()\n",
    "spark.sparkContext.getConf().getAll()"
   ]
  },
  {
   "cell_type": "markdown",
   "metadata": {},
   "source": [
    "# Load and Clean Dataset\n",
    "In this workspace, the mini-dataset file is `mini_sparkify_event_data.json`. Load and clean the dataset, checking for invalid or missing data - for example, records without userids or sessionids. "
   ]
  },
  {
   "cell_type": "code",
   "execution_count": 4,
   "metadata": {},
   "outputs": [],
   "source": [
    "miniDataset = spark.read.json(\"mini_sparkify_event_data.json\")"
   ]
  },
  {
   "cell_type": "markdown",
   "metadata": {},
   "source": [
    "# Exploratory Data Analysis\n",
    "When you're working with the full dataset, perform EDA by loading a small subset of the data and doing basic manipulations within Spark. In this workspace, you are already provided a small subset of data you can explore.\n",
    "\n",
    "### Define Churn\n",
    "\n",
    "Once you've done some preliminary analysis, create a column `Churn` to use as the label for your model. I suggest using the `Cancellation Confirmation` events to define your churn, which happen for both paid and free users. As a bonus task, you can also look into the `Downgrade` events.\n",
    "\n",
    "### Explore Data\n",
    "Once you've defined churn, perform some exploratory data analysis to observe the behavior for users who stayed vs users who churned. You can start by exploring aggregates on these two groups of users, observing how much of a specific action they experienced per a certain time unit or number of songs played."
   ]
  },
  {
   "cell_type": "code",
   "execution_count": 5,
   "metadata": {},
   "outputs": [
    {
     "name": "stdout",
     "output_type": "stream",
     "text": [
      "root\n",
      " |-- artist: string (nullable = true)\n",
      " |-- auth: string (nullable = true)\n",
      " |-- firstName: string (nullable = true)\n",
      " |-- gender: string (nullable = true)\n",
      " |-- itemInSession: long (nullable = true)\n",
      " |-- lastName: string (nullable = true)\n",
      " |-- length: double (nullable = true)\n",
      " |-- level: string (nullable = true)\n",
      " |-- location: string (nullable = true)\n",
      " |-- method: string (nullable = true)\n",
      " |-- page: string (nullable = true)\n",
      " |-- registration: long (nullable = true)\n",
      " |-- sessionId: long (nullable = true)\n",
      " |-- song: string (nullable = true)\n",
      " |-- status: long (nullable = true)\n",
      " |-- ts: long (nullable = true)\n",
      " |-- userAgent: string (nullable = true)\n",
      " |-- userId: string (nullable = true)\n",
      "\n",
      "None\n",
      "286500\n",
      "[Row(artist='Martha Tilston', auth='Logged In', firstName='Colin', gender='M', itemInSession=50, lastName='Freeman', length=277.89016, level='paid', location='Bakersfield, CA', method='PUT', page='NextSong', registration=1538173362000, sessionId=29, song='Rockpools', status=200, ts=1538352117000, userAgent='Mozilla/5.0 (Windows NT 6.1; WOW64; rv:31.0) Gecko/20100101 Firefox/31.0', userId='30')]\n"
     ]
    }
   ],
   "source": [
    "print(miniDataset.printSchema())\n",
    "print(miniDataset.count())\n",
    "print(miniDataset.take(1))"
   ]
  },
  {
   "cell_type": "code",
   "execution_count": 6,
   "metadata": {},
   "outputs": [
    {
     "name": "stdout",
     "output_type": "stream",
     "text": [
      "+--------------------+\n",
      "|                page|\n",
      "+--------------------+\n",
      "|               About|\n",
      "|          Add Friend|\n",
      "|     Add to Playlist|\n",
      "|              Cancel|\n",
      "|Cancellation Conf...|\n",
      "|           Downgrade|\n",
      "|               Error|\n",
      "|                Help|\n",
      "|                Home|\n",
      "|               Login|\n",
      "|              Logout|\n",
      "|            NextSong|\n",
      "|            Register|\n",
      "|         Roll Advert|\n",
      "|       Save Settings|\n",
      "|            Settings|\n",
      "|    Submit Downgrade|\n",
      "| Submit Registration|\n",
      "|      Submit Upgrade|\n",
      "|         Thumbs Down|\n",
      "+--------------------+\n",
      "only showing top 20 rows\n",
      "\n",
      "None\n",
      "+------+\n",
      "|status|\n",
      "+------+\n",
      "|   200|\n",
      "|   307|\n",
      "|   404|\n",
      "+------+\n",
      "\n",
      "None\n"
     ]
    }
   ],
   "source": [
    "print(miniDataset.select(\"page\").distinct().sort(\"page\").show())\n",
    "print(miniDataset.select(\"status\").distinct().sort(\"status\").show())"
   ]
  },
  {
   "cell_type": "code",
   "execution_count": 7,
   "metadata": {},
   "outputs": [],
   "source": [
    "# miniDataset.filter(miniDataset.userId != '').count()\n",
    "\n",
    "# Dropping records with no userId\n",
    "miniDataset = miniDataset.dropna(how = \"any\", subset = [\"userId\", \"sessionId\"])\n",
    "miniDataset = miniDataset.filter(miniDataset.userId != '')"
   ]
  },
  {
   "cell_type": "code",
   "execution_count": 8,
   "metadata": {},
   "outputs": [],
   "source": [
    "# Define churn\n",
    "churn_flag = udf(lambda x: 1 if x =='Cancellation Confirmation' else 0, IntegerType())\n",
    "miniDataset = miniDataset.withColumn(\"churn\", churn_flag(miniDataset.page))"
   ]
  },
  {
   "cell_type": "code",
   "execution_count": 9,
   "metadata": {},
   "outputs": [],
   "source": [
    "# to_datetime = udf(lambda x: datetime.datetime.fromtimestamp(x / 1000.0))\n",
    "# miniDataset = miniDataset.withColumn(\"ts\", to_datetime(miniDataset.ts))\n",
    "# miniDataset.take(2)\n",
    "get_hour = udf(lambda x: datetime.datetime.fromtimestamp(x / 1000.0). hour)\n",
    "miniDataset = miniDataset.withColumn(\"hour\", get_hour(miniDataset.ts))\n",
    "songs_in_hour = miniDataset.filter(miniDataset.page == \"NextSong\").groupby(miniDataset.hour).count().orderBy(miniDataset.hour.cast(\"float\"))\n"
   ]
  },
  {
   "cell_type": "code",
   "execution_count": 10,
   "metadata": {},
   "outputs": [],
   "source": [
    "songs_in_hour_pd = songs_in_hour.toPandas()\n",
    "songs_in_hour_pd.hour = pd.to_numeric(songs_in_hour_pd.hour)"
   ]
  },
  {
   "cell_type": "code",
   "execution_count": 11,
   "metadata": {},
   "outputs": [
    {
     "data": {
      "image/png": "[encoded data removed]",
      "text/plain": [
       "<matplotlib.figure.Figure at 0x7f6f0b7e57b8>"
      ]
     },
     "metadata": {
      "needs_background": "light"
     },
     "output_type": "display_data"
    }
   ],
   "source": [
    "plt.scatter(songs_in_hour_pd[\"hour\"], songs_in_hour_pd[\"count\"])\n",
    "plt.xlim(-1, 24);\n",
    "plt.ylim(0, 1.1 * max(songs_in_hour_pd[\"count\"]))\n",
    "plt.xlabel(\"Hour\")\n",
    "plt.ylabel(\"Songs played\");"
   ]
  },
  {
   "cell_type": "code",
   "execution_count": 12,
   "metadata": {},
   "outputs": [
    {
     "name": "stdout",
     "output_type": "stream",
     "text": [
      "### Activites for those who stayed ###\n",
      "+----------------+------+\n",
      "|            page| count|\n",
      "+----------------+------+\n",
      "|           About|   439|\n",
      "|      Add Friend|  3641|\n",
      "| Add to Playlist|  5488|\n",
      "|       Downgrade|  1718|\n",
      "|           Error|   220|\n",
      "|            Help|  1215|\n",
      "|            Home|  8410|\n",
      "|          Logout|  2673|\n",
      "|        NextSong|191714|\n",
      "|     Roll Advert|  2966|\n",
      "|   Save Settings|   252|\n",
      "|        Settings|  1244|\n",
      "|Submit Downgrade|    54|\n",
      "|  Submit Upgrade|   127|\n",
      "|     Thumbs Down|  2050|\n",
      "|       Thumbs Up| 10692|\n",
      "|         Upgrade|   387|\n",
      "+----------------+------+\n",
      "\n",
      "None\n",
      "### Activites for those who churned ###\n",
      "+--------------------+-----+\n",
      "|                page|count|\n",
      "+--------------------+-----+\n",
      "|               About|   56|\n",
      "|          Add Friend|  636|\n",
      "|     Add to Playlist| 1038|\n",
      "|              Cancel|   52|\n",
      "|Cancellation Conf...|   52|\n",
      "|           Downgrade|  337|\n",
      "|               Error|   32|\n",
      "|                Help|  239|\n",
      "|                Home| 1672|\n",
      "|              Logout|  553|\n",
      "|            NextSong|36394|\n",
      "|         Roll Advert|  967|\n",
      "|       Save Settings|   58|\n",
      "|            Settings|  270|\n",
      "|    Submit Downgrade|    9|\n",
      "|      Submit Upgrade|   32|\n",
      "|         Thumbs Down|  496|\n",
      "|           Thumbs Up| 1859|\n",
      "|             Upgrade|  112|\n",
      "+--------------------+-----+\n",
      "\n",
      "None\n"
     ]
    }
   ],
   "source": [
    "windowval = Window.partitionBy(\"userId\").orderBy(desc(\"ts\")).rangeBetween(Window.unboundedPreceding, Window.unboundedFollowing)\n",
    "miniDataset = miniDataset.withColumn(\"stayed\", Fsum(\"churn\").over(windowval))\n",
    "\n",
    "print('### Activites for those who stayed ###')\n",
    "# print(miniDataset.select([\"userId\", \"page\", \"level\",\"churn\"]).where(miniDataset.churn < 1).groupBy(['page','level']).count().orderBy('level').show(10000))\n",
    "print(miniDataset.select([\"userId\", \"page\", \"level\",\"churn\",\"stayed\"]).where(miniDataset.stayed < 1).groupBy(['page']).count().orderBy('page').show(10000))\n",
    "\n",
    "print('### Activites for those who churned ###')\n",
    "print(miniDataset.select([\"userId\", \"page\", \"level\",\"churn\",\"stayed\"]).where(miniDataset.stayed > 0).groupBy(['page']).count().orderBy('page').show(10000))"
   ]
  },
  {
   "cell_type": "markdown",
   "metadata": {},
   "source": [
    "# Feature Engineering\n",
    "Once you've familiarized yourself with the data, build out the features you find promising to train your model on. To work with the full dataset, you can follow the following steps.\n",
    "- Write a script to extract the necessary features from the smaller subset of data\n",
    "- Ensure that your script is scalable, using the best practices discussed in Lesson 3\n",
    "- Try your script on the full data set, debugging your script if necessary\n",
    "\n",
    "If you are working in the classroom workspace, you can just extract features based on the small subset of data contained here. Be sure to transfer over this work to the larger dataset when you work on your Spark cluster."
   ]
  },
  {
   "cell_type": "code",
   "execution_count": 13,
   "metadata": {},
   "outputs": [
    {
     "name": "stdout",
     "output_type": "stream",
     "text": [
      "Total number of features:  19\n"
     ]
    }
   ],
   "source": [
    "# As a first feature I will do the count of each page for each user to create a feature per page identified\n",
    "pageColumns = [x[0] for x in miniDataset.select(\"page\").distinct().sort(\"page\").collect()]\n",
    "print('Total number of features: ',len(pageColumns))"
   ]
  },
  {
   "cell_type": "code",
   "execution_count": 14,
   "metadata": {},
   "outputs": [
    {
     "name": "stdout",
     "output_type": "stream",
     "text": [
      "+------+-----+\n",
      "|userId|label|\n",
      "+------+-----+\n",
      "|100010|    0|\n",
      "|200002|    0|\n",
      "|   125|    1|\n",
      "|    51|    1|\n",
      "|   124|    0|\n",
      "|     7|    0|\n",
      "|    54|    1|\n",
      "|    15|    0|\n",
      "|   155|    0|\n",
      "|   132|    0|\n",
      "+------+-----+\n",
      "only showing top 10 rows\n",
      "\n",
      "None\n",
      "225\n"
     ]
    }
   ],
   "source": [
    "dfFeatures = miniDataset.select('userId','churn').groupBy('userId').agg(Fsum('churn').alias('label'))\n",
    "print(dfFeatures.show(10))\n",
    "print(dfFeatures.count())"
   ]
  },
  {
   "cell_type": "code",
   "execution_count": 15,
   "metadata": {},
   "outputs": [
    {
     "data": {
      "text/plain": [
       "225"
      ]
     },
     "execution_count": 15,
     "metadata": {},
     "output_type": "execute_result"
    }
   ],
   "source": [
    "# Getting all pages names and excluding those dealing with cancelations\n",
    "featureCols = []\n",
    "for feature in pageColumns:\n",
    "    # excluding pages that might be dedundant with churn label\n",
    "    if feature not in ['Cancel']:\n",
    "#     if feature not in ['Cancel','Cancellation Confirmation']:\n",
    "        tempdf = miniDataset.select('userId','page').groupBy('userId','page').count().\\\n",
    "            select('userId',sf.col(\"count\").alias(feature)).where(miniDataset.page == feature)\n",
    "        dfFeatures = dfFeatures.join(tempdf, dfFeatures.userId == tempdf.userId, 'left').drop(tempdf.userId)\n",
    "        featureCols.append(feature)\n",
    "    #     print(dfFeatures.join(tempdf, dfFeatures.userId == tempdf.userId, 'inner').drop(tempdf.userId).count())\n",
    "\n",
    "dfFeatures.count()"
   ]
  },
  {
   "cell_type": "code",
   "execution_count": 16,
   "metadata": {},
   "outputs": [
    {
     "name": "stdout",
     "output_type": "stream",
     "text": [
      "+-----+------+-----+----------+---------------+-------------------------+---------+-----+----+----+------+--------+-----------+-------------+--------+----------------+--------------+-----------+---------+-------+\n",
      "|label|userId|About|Add Friend|Add to Playlist|Cancellation Confirmation|Downgrade|Error|Help|Home|Logout|NextSong|Roll Advert|Save Settings|Settings|Submit Downgrade|Submit Upgrade|Thumbs Down|Thumbs Up|Upgrade|\n",
      "+-----+------+-----+----------+---------------+-------------------------+---------+-----+----+----+------+--------+-----------+-------------+--------+----------------+--------------+-----------+---------+-------+\n",
      "|    0|100010|    1|         4|              7|                        0|        0|    0|   2|  11|     5|     275|         52|            0|       0|               0|             0|          5|       17|      2|\n",
      "|    0|200002|    3|         4|              8|                        0|        5|    0|   2|  20|     5|     387|          7|            0|       3|               0|             1|          6|       21|      2|\n",
      "|    0|   124|    7|        74|            118|                        0|       41|    6|  23| 176|    59|    4079|          4|            6|      20|               0|             0|         41|      171|      0|\n",
      "+-----+------+-----+----------+---------------+-------------------------+---------+-----+----+----+------+--------+-----------+-------------+--------+----------------+--------------+-----------+---------+-------+\n",
      "only showing top 3 rows\n",
      "\n"
     ]
    }
   ],
   "source": [
    "# filling na/null values with zero\n",
    "dfFeatures = dfFeatures.na.fill(0)\n",
    "dfFeatures.show(3)"
   ]
  },
  {
   "cell_type": "markdown",
   "metadata": {},
   "source": [
    "# Modeling\n",
    "Split the full dataset into train, test, and validation sets. Test out several of the machine learning methods you learned. Evaluate the accuracy of the various models, tuning parameters as necessary. Determine your winning model based on test accuracy and report results on the validation set. Since the churned users are a fairly small subset, I suggest using F1 score as the metric to optimize."
   ]
  },
  {
   "cell_type": "code",
   "execution_count": 17,
   "metadata": {},
   "outputs": [],
   "source": [
    "# Creating features vector for normalization methods/functions\n",
    "assembler = VectorAssembler(inputCols=featureCols, outputCol=\"Features\")\n",
    "dfFeatures = assembler.transform(dfFeatures)"
   ]
  },
  {
   "cell_type": "code",
   "execution_count": 18,
   "metadata": {},
   "outputs": [
    {
     "name": "stdout",
     "output_type": "stream",
     "text": [
      "+-----+------+-----+----------+---------------+-------------------------+---------+-----+----+----+------+--------+-----------+-------------+--------+----------------+--------------+-----------+---------+-------+----------------------------------------------------------------------------------------+\n",
      "|label|userId|About|Add Friend|Add to Playlist|Cancellation Confirmation|Downgrade|Error|Help|Home|Logout|NextSong|Roll Advert|Save Settings|Settings|Submit Downgrade|Submit Upgrade|Thumbs Down|Thumbs Up|Upgrade|Features                                                                                |\n",
      "+-----+------+-----+----------+---------------+-------------------------+---------+-----+----+----+------+--------+-----------+-------------+--------+----------------+--------------+-----------+---------+-------+----------------------------------------------------------------------------------------+\n",
      "|0    |100010|1    |4         |7              |0                        |0        |0    |2   |11  |5     |275     |52         |0            |0       |0               |0             |5          |17       |2      |[1.0,4.0,7.0,0.0,0.0,0.0,2.0,11.0,5.0,275.0,52.0,0.0,0.0,0.0,0.0,5.0,17.0,2.0]          |\n",
      "|0    |200002|3    |4         |8              |0                        |5        |0    |2   |20  |5     |387     |7          |0            |3       |0               |1             |6          |21       |2      |[3.0,4.0,8.0,0.0,5.0,0.0,2.0,20.0,5.0,387.0,7.0,0.0,3.0,0.0,1.0,6.0,21.0,2.0]           |\n",
      "|0    |124   |7    |74        |118            |0                        |41       |6    |23  |176 |59    |4079    |4          |6            |20      |0               |0             |41         |171      |0      |[7.0,74.0,118.0,0.0,41.0,6.0,23.0,176.0,59.0,4079.0,4.0,6.0,20.0,0.0,0.0,41.0,171.0,0.0]|\n",
      "+-----+------+-----+----------+---------------+-------------------------+---------+-----+----+----+------+--------+-----------+-------------+--------+----------------+--------------+-----------+---------+-------+----------------------------------------------------------------------------------------+\n",
      "only showing top 3 rows\n",
      "\n"
     ]
    }
   ],
   "source": [
    "# Checking assembler transformation\n",
    "dfFeatures.show(3,False)"
   ]
  },
  {
   "cell_type": "code",
   "execution_count": 19,
   "metadata": {},
   "outputs": [],
   "source": [
    "# normalize data using Normalizer\n",
    "scaler = Normalizer(inputCol=\"Features\", outputCol=\"normalizedFeatures\")\n",
    "dfFeatures = scaler.transform(dfFeatures)"
   ]
  },
  {
   "cell_type": "code",
   "execution_count": 20,
   "metadata": {},
   "outputs": [],
   "source": [
    "# normalize data using StandardScaler\n",
    "scaler = StandardScaler(inputCol=\"Features\", outputCol=\"scaledFeatures\", withStd=True)\n",
    "scalerModel = scaler.fit(dfFeatures)\n",
    "dfFeatures = scalerModel.transform(dfFeatures)"
   ]
  },
  {
   "cell_type": "code",
   "execution_count": 21,
   "metadata": {},
   "outputs": [],
   "source": [
    "# Applying PCA (to remove correlated features and shrink the features space by about half) to both normalized features \n",
    "pcaNorm = PCA(k=8, inputCol=\"normalizedFeatures\", outputCol=\"pcaNormFeatures\")\n",
    "model = pcaNorm.fit(dfFeatures)\n",
    "dfFeatures = model.transform(dfFeatures)\n",
    "\n",
    "pcaScaled = PCA(k=8, inputCol=\"scaledFeatures\", outputCol=\"pcaScaledFeatures\")\n",
    "model = pcaScaled.fit(dfFeatures)\n",
    "dfFeatures = model.transform(dfFeatures)"
   ]
  },
  {
   "cell_type": "code",
   "execution_count": 22,
   "metadata": {},
   "outputs": [
    {
     "name": "stdout",
     "output_type": "stream",
     "text": [
      "[0.719360067962531, 0.6909219002664337, 0.6811902236277637, 0.719360067962531, 0.6909219002664337, 0.6834720475906559, 0.719360067962531, 0.6938087034416291, 0.6834720475906559, 0.719360067962531, 0.6834720475906559, 0.6834720475906559]\n"
     ]
    }
   ],
   "source": [
    "# Logistic Regression using features with PCA and Spark Normilizer\n",
    "data = dfFeatures.select(dfFeatures.label.alias(\"label\"), dfFeatures.pcaNormFeatures.alias(\"features\"))\n",
    "trainNorm, validationNorm = data.randomSplit([0.9, 0.1], seed=42)\n",
    "trainNorm = trainNorm.cache()\n",
    "lr =  LogisticRegression()\n",
    "paramGrid = ParamGridBuilder() \\\n",
    "    .addGrid(lr.elasticNetParam,[0.0, 0.1,0.5,1.0]) \\\n",
    "    .addGrid(lr.regParam,[0.0, 0.05, 0.1]) \\\n",
    "    .build()\n",
    "\n",
    "#     .addGrid(lr.elasticNetParam,[0.0, 0.1, 0.5]) \\\n",
    "\n",
    "crossval = CrossValidator(estimator=lr,\n",
    "                          estimatorParamMaps=paramGrid,\n",
    "                          evaluator=MulticlassClassificationEvaluator(),\n",
    "                          numFolds=3)\n",
    "cvModel_lrNorm = crossval.fit(trainNorm)\n",
    "print(cvModel_lrNorm.avgMetrics)\n",
    "\n",
    "##### Saved this since it takes a while to process #####\n",
    "# [0.7241808689994005, 0.693360617416807, 0.6838585589421972, 0.7241808689994005, 0.693360617416807, \n",
    "# 0.6838585589421972, 0.7241808689994005, 0.6838585589421972, 0.6838585589421972, 0.7241808689994005, \n",
    "# 0.6838585589421972, 0.6838585589421972]"
   ]
  },
  {
   "cell_type": "code",
   "execution_count": 23,
   "metadata": {},
   "outputs": [
    {
     "name": "stdout",
     "output_type": "stream",
     "text": [
      "[0.9011405442473007, 0.9011405442473007, 0.9011405442473007, 0.9011405442473007, 0.9011405442473007, 0.9011405442473007, 0.9011405442473007, 0.9011405442473007, 0.9011405442473007, 0.9011405442473007, 0.8967540834224836, 0.889943020192979]\n"
     ]
    }
   ],
   "source": [
    "# Logistic Regression using features with PCA and Spark StandardScaler\n",
    "data = dfFeatures.select(dfFeatures.label.alias(\"label\"), dfFeatures.pcaScaledFeatures.alias(\"features\"))\n",
    "trainScaled, validationScaled = data.randomSplit([0.9, 0.1], seed=42)\n",
    "trainScaled = trainScaled.cache()\n",
    "lr =  LogisticRegression()\n",
    "paramGrid = ParamGridBuilder() \\\n",
    "    .addGrid(lr.elasticNetParam,[0.0, 0.1, 0.5, 1.0]) \\\n",
    "    .addGrid(lr.regParam,[0.0, 0.05, 0.1]) \\\n",
    "    .build()\n",
    "\n",
    "crossval = CrossValidator(estimator=lr,\n",
    "                          estimatorParamMaps=paramGrid,\n",
    "                          evaluator=MulticlassClassificationEvaluator(),\n",
    "                          numFolds=3)\n",
    "cvModel_lrScaled = crossval.fit(trainScaled)\n",
    "print(cvModel_lrScaled.avgMetrics)\n",
    "\n",
    "##### saved results since this takes a long time process #####\n",
    "# [0.6828479514058365, 0.6741802559543306, 0.6814972603226915, 0.6828479514058365, \n",
    "#  0.6765677674327513, 0.6814972603226915, 0.6828479514058365, 0.6814972603226915, \n",
    "#  0.6838427184821032, 0.6828479514058365, 0.6838427184821032, 0.6838427184821032]"
   ]
  },
  {
   "cell_type": "code",
   "execution_count": 24,
   "metadata": {},
   "outputs": [],
   "source": [
    "# Since the PCA with Normilizer model privided better results, below f1 is computed using that model\n",
    "# and validation set\n",
    "results = cvModel_lrNorm.transform(validationNorm)"
   ]
  },
  {
   "cell_type": "code",
   "execution_count": 25,
   "metadata": {},
   "outputs": [
    {
     "name": "stdout",
     "output_type": "stream",
     "text": [
      "1 0 6\n",
      "1.0\n",
      "0.14285714285714285\n",
      "0.25\n"
     ]
    }
   ],
   "source": [
    "# get f1 score for Normalized features model\n",
    "tp = results.filter(\"label = 1 and prediction = 1\").count()\n",
    "fp = results.filter(\"label = 0 and prediction = 1\").count()\n",
    "fn = results.filter(\"label = 1 and prediction = 0\").count()\n",
    "print(tp,fp,fn)\n",
    "precision = tp / (tp + fp) \n",
    "recall = tp / (tp + fn)\n",
    "f1 = 2*precision*recall / (precision+recall)\n",
    "print(precision)\n",
    "print(recall)\n",
    "print(f1)"
   ]
  },
  {
   "cell_type": "code",
   "execution_count": 26,
   "metadata": {},
   "outputs": [],
   "source": [
    "results = cvModel_lrScaled.transform(validationScaled)"
   ]
  },
  {
   "cell_type": "code",
   "execution_count": 27,
   "metadata": {},
   "outputs": [
    {
     "name": "stdout",
     "output_type": "stream",
     "text": [
      "4 0 3\n",
      "1.0\n",
      "0.5714285714285714\n",
      "0.7272727272727273\n"
     ]
    }
   ],
   "source": [
    "# get f1 score for Scaled features model\n",
    "tp = results.filter(\"label = 1 and prediction = 1\").count()\n",
    "fp = results.filter(\"label = 0 and prediction = 1\").count()\n",
    "fn = results.filter(\"label = 1 and prediction = 0\").count()\n",
    "print(tp,fp,fn)\n",
    "precision = tp / (tp + fp) \n",
    "recall = tp / (tp + fn)\n",
    "f1 = 2*precision*recall / (precision+recall)\n",
    "print(precision)\n",
    "print(recall)\n",
    "print(f1)"
   ]
  },
  {
   "cell_type": "code",
   "execution_count": null,
   "metadata": {},
   "outputs": [],
   "source": []
  },
  {
   "cell_type": "markdown",
   "metadata": {},
   "source": [
    "# Final Steps\n",
    "Clean up your code, adding comments and renaming variables to make the code easier to read and maintain. Refer to the Spark Project Overview page and Data Scientist Capstone Project Rubric to make sure you are including all components of the capstone project and meet all expectations. Remember, this includes thorough documentation in a README file in a Github repository, as well as a web app or blog post."
   ]
  },
  {
   "cell_type": "markdown",
   "metadata": {},
   "source": [
    "### Conclusion\n",
    "For the purpose of this excercise, I went ahead and applied a range of different parameters, using Logistic Regression, but under different sets of notmilized features. One with Normilizer and PCA, and the otherone with StandardScaler. This just to not only see the results of logistic regression model, but also see what the impact can be if features are normilized in different ways. Also, I was very interested in the potential of PCA, and how it can reduce the feature space, by removing those features that could potentially be correlated. "
   ]
  },
  {
   "cell_type": "code",
   "execution_count": null,
   "metadata": {},
   "outputs": [],
   "source": []
  }
 ],
 "metadata": {
  "kernelspec": {
   "display_name": "Python 3",
   "language": "python",
   "name": "python3"
  },
  "language_info": {
   "codemirror_mode": {
    "name": "ipython",
    "version": 3
   },
   "file_extension": ".py",
   "mimetype": "text/x-python",
   "name": "python",
   "nbconvert_exporter": "python",
   "pygments_lexer": "ipython3",
   "version": "3.6.3"
  }
 },
 "nbformat": 4,
 "nbformat_minor": 2
}
